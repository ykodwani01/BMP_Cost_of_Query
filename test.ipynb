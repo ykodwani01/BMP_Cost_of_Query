{
 "cells": [
  {
   "cell_type": "code",
   "execution_count": 47,
   "metadata": {},
   "outputs": [],
   "source": [
    "import pandas as pd\n",
    "import numpy as np\n",
    "import matplotlib.pyplot as plt\n",
    "import json\n"
   ]
  },
  {
   "cell_type": "code",
   "execution_count": 74,
   "metadata": {},
   "outputs": [],
   "source": [
    "def extract_relation_names(json_data):\n",
    "    relation_names = set()\n",
    "    \n",
    "  # Using set to ensure unique values\n",
    "    for item in json_data:\n",
    "        \n",
    "        \n",
    "        extract_relation_names_from_plan(item, relation_names)\n",
    "    return relation_names\n",
    "\n",
    "def extract_relation_names_from_plan(plan, relation_names):\n",
    "    relation_name = plan.get(\"Relation Name\")\n",
    "    if relation_name:\n",
    "        relation_names.add(relation_name)\n",
    "    if \"Plans\" in plan:\n",
    "        for subplan in plan[\"Plans\"]:\n",
    "            extract_relation_names_from_plan(subplan, relation_names)\n"
   ]
  },
  {
   "cell_type": "code",
   "execution_count": 85,
   "metadata": {},
   "outputs": [],
   "source": [
    "def extract_filters(data):\n",
    "    filters = []\n",
    "\n",
    "    if isinstance(data, dict):\n",
    "        for key, value in data.items():\n",
    "            if key == \"Filter\":\n",
    "                filters.append(value)\n",
    "            elif isinstance(value, (dict, list)):\n",
    "                filters.extend(extract_filters(value))\n",
    "\n",
    "    elif isinstance(data, list):\n",
    "        for item in data:\n",
    "            filters.extend(extract_filters(item))\n",
    "\n",
    "    return filters"
   ]
  },
  {
   "cell_type": "code",
   "execution_count": 29,
   "metadata": {},
   "outputs": [],
   "source": [
    "df = pd.read_json('new.json')\n",
    "\n"
   ]
  },
  {
   "cell_type": "code",
   "execution_count": 27,
   "metadata": {},
   "outputs": [],
   "source": [
    "columns =['Plan','query','avg_row_length','no_of_partitions','Execution Time']"
   ]
  },
  {
   "cell_type": "code",
   "execution_count": null,
   "metadata": {},
   "outputs": [],
   "source": [
    "df_copy = df[columns]\n"
   ]
  },
  {
   "cell_type": "code",
   "execution_count": 80,
   "metadata": {},
   "outputs": [
    {
     "name": "stdout",
     "output_type": "stream",
     "text": [
      "{'customer', 'orders'}\n"
     ]
    }
   ],
   "source": [
    "relation_names=[]\n",
    "for row in df_copy['Plan']:\n",
    "    row = json.dumps(row)\n",
    "    # print(row)\n",
    "    relation_name = extract_relation_names([json.loads(row)])\n",
    "    relation_names.append(relation_name)"
   ]
  },
  {
   "cell_type": "code",
   "execution_count": null,
   "metadata": {},
   "outputs": [],
   "source": [
    "df_copy['relation_names'] = relation_names\n",
    "df_copy.head(10)"
   ]
  },
  {
   "cell_type": "code",
   "execution_count": 93,
   "metadata": {},
   "outputs": [],
   "source": [
    "filters=[]\n",
    "for row in df_copy['Plan']:\n",
    "    row = json.dumps(row)\n",
    "    \n",
    "    filter = extract_filters(json.loads(row))\n",
    "    filters.append(filter)"
   ]
  },
  {
   "cell_type": "code",
   "execution_count": 98,
   "metadata": {},
   "outputs": [
    {
     "name": "stdout",
     "output_type": "stream",
     "text": [
      "[[\"(l_shipdate <= '1998-08-12 00:00:00'::timestamp without time zone)\"], [\"(l_shipdate <= '1998-08-12 00:00:00'::timestamp without time zone)\"], [\"(l_shipdate <= '1998-08-12 00:00:00'::timestamp without time zone)\"], [\"(l_shipdate <= '1998-08-12 00:00:00'::timestamp without time zone)\"], [\"(l_shipdate <= '1998-08-12 00:00:00'::timestamp without time zone)\"], [\"(l_shipdate <= '1998-08-12 00:00:00'::timestamp without time zone)\"], [\"(l_shipdate <= '1998-08-12 00:00:00'::timestamp without time zone)\"], [\"(l_returnflag = 'R'::bpchar)\"], [\"(n_name = 'EGYPT'::bpchar)\", '(sum((partsupp.ps_supplycost * (partsupp.ps_availqty)::numeric)) > $2)', \"(n_name = 'EGYPT'::bpchar)\"], [\"((l_shipmode = ANY ('{RAIL,AIR}'::bpchar[])) AND (l_commitdate < l_receiptdate) AND (l_shipdate < l_commitdate) AND (l_receiptdate >= '1996-01-01'::date) AND (l_receiptdate < '1997-01-01 00:00:00'::timestamp without time zone))\"], [\"((o_comment)::text !~~ '%special%accounts%'::text)\"], [], ['(NOT (hashed SubPlan 1))', \"((s_comment)::text ~~ '%Customer%Complaints%'::text)\", \"((p_brand <> 'Brand#45'::bpchar) AND ((p_type)::text !~~ 'STANDARD ANODIZED%'::text) AND (p_size = ANY ('{26,23,2,5,15,30,18,40}'::integer[])))\"], [\"((p_brand = 'Brand#51'::bpchar) AND (p_container = 'MED PACK'::bpchar))\", '(l_quantity < ((0.2 * avg(lineitem_1.l_quantity))))'], [\"(sum(lineitem_1.l_quantity) > '312'::numeric)\"], ['((p_size >= 1) AND (((p_brand = \\'Brand#33\\'::bpchar) AND (p_container = ANY (\\'{\"SM CASE\",\"SM BOX\",\"SM PACK\",\"SM PKG\"}\\'::bpchar[])) AND (p_size <= 5)) OR ((p_brand = \\'Brand#31\\'::bpchar) AND (p_container = ANY (\\'{\"MED BAG\",\"MED BOX\",\"MED PKG\",\"MED PACK\"}\\'::bpchar[])) AND (p_size <= 10)) OR ((p_brand = \\'Brand#23\\'::bpchar) AND (p_container = ANY (\\'{\"LG CASE\",\"LG BOX\",\"LG PACK\",\"LG PKG\"}\\'::bpchar[])) AND (p_size <= 15))))', '((l_shipmode = ANY (\\'{AIR,\"AIR REG\"}\\'::bpchar[])) AND (l_shipinstruct = \\'DELIVER IN PERSON\\'::bpchar) AND (((l_quantity >= \\'3\\'::numeric) AND (l_quantity <= \\'13\\'::numeric)) OR ((l_quantity >= \\'18\\'::numeric) AND (l_quantity <= \\'28\\'::numeric)) OR ((l_quantity >= \\'24\\'::numeric) AND (l_quantity <= \\'34\\'::numeric))) AND (((part.p_brand = \\'Brand#33\\'::bpchar) AND (part.p_container = ANY (\\'{\"SM CASE\",\"SM BOX\",\"SM PACK\",\"SM PKG\"}\\'::bpchar[])) AND (l_quantity >= \\'3\\'::numeric) AND (l_quantity <= \\'13\\'::numeric) AND (part.p_size <= 5)) OR ((part.p_brand = \\'Brand#31\\'::bpchar) AND (part.p_container = ANY (\\'{\"MED BAG\",\"MED BOX\",\"MED PKG\",\"MED PACK\"}\\'::bpchar[])) AND (l_quantity >= \\'18\\'::numeric) AND (l_quantity <= \\'28\\'::numeric) AND (part.p_size <= 10)) OR ((part.p_brand = \\'Brand#23\\'::bpchar) AND (part.p_container = ANY (\\'{\"LG CASE\",\"LG BOX\",\"LG PACK\",\"LG PKG\"}\\'::bpchar[])) AND (l_quantity >= \\'24\\'::numeric) AND (l_quantity <= \\'34\\'::numeric) AND (part.p_size <= 15))))'], [\"(((p_type)::text ~~ '%BRASS'::text) AND (p_size = 20))\", \"(r_name = 'ASIA'::bpchar)\", \"(r_name = 'ASIA'::bpchar)\"], [\"(n_name = 'ALGERIA'::bpchar)\", \"((l_shipdate >= '1995-01-01'::date) AND (l_shipdate < '1996-01-01 00:00:00'::timestamp without time zone))\", \"((p_name)::text ~~ 'khaki%'::text)\", '((ps_availqty)::numeric > ((0.5 * sum(lineitem.l_quantity))))'], ['(l_receiptdate > l_commitdate)', \"(n_name = 'BRAZIL'::bpchar)\", '((l_receiptdate > l_commitdate) AND (l_suppkey <> l1.l_suppkey))', '(l_suppkey <> l1.l_suppkey)', \"(o_orderstatus = 'F'::bpchar)\"], [\"((c_acctbal > 0.00) AND (SUBSTRING(c_phone FROM 1 FOR 2) = ANY ('{25,14,20,30,31,16,28}'::text[])))\", \"((c_acctbal > $1) AND (SUBSTRING(c_phone FROM 1 FOR 2) = ANY ('{25,14,20,30,31,16,28}'::text[])))\"], [\"(l_shipdate > '1995-03-16'::date)\", \"(o_orderdate < '1995-03-16'::date)\", \"(c_mktsegment = 'MACHINERY'::bpchar)\"], ['(l_commitdate < l_receiptdate)'], [\"((o_orderdate >= '1995-01-01'::date) AND (o_orderdate < '1996-01-01 00:00:00'::timestamp without time zone))\", \"(r_name = 'AMERICA'::bpchar)\"], [\"((l_shipdate >= '1995-01-01'::date) AND (l_shipdate < '1996-01-01 00:00:00'::timestamp without time zone) AND (l_discount >= 0.08) AND (l_discount <= 0.10) AND (l_quantity < '25'::numeric))\"], [\"((l_shipdate >= '1995-01-01'::date) AND (l_shipdate <= '1996-12-31'::date))\", \"((n_name = 'UNITED STATES'::bpchar) OR (n_name = 'CHINA'::bpchar))\", \"((n_name = 'CHINA'::bpchar) OR (n_name = 'UNITED STATES'::bpchar))\"], [\"((o_orderdate >= '1995-01-01'::date) AND (o_orderdate <= '1996-12-31'::date))\", \"(r_name = 'ASIA'::bpchar)\", \"((p_type)::text = 'MEDIUM POLISHED COPPER'::text)\"], [\"((p_name)::text ~~ '%hot%'::text)\"], [\"(l_shipdate > '1995-03-07'::date)\", \"(o_orderdate < '1995-03-07'::date)\", \"(c_mktsegment = 'FURNITURE'::bpchar)\"], [\"(l_returnflag = 'R'::bpchar)\"], [\"(n_name = 'GERMANY'::bpchar)\", '(sum((partsupp.ps_supplycost * (partsupp.ps_availqty)::numeric)) > $2)', \"(n_name = 'GERMANY'::bpchar)\"], [\"((l_shipmode = ANY ('{TRUCK,AIR}'::bpchar[])) AND (l_commitdate < l_receiptdate) AND (l_shipdate < l_commitdate) AND (l_receiptdate >= '1995-01-01'::date) AND (l_receiptdate < '1996-01-01 00:00:00'::timestamp without time zone))\"], [\"(sum(lineitem_1.l_quantity) > '314'::numeric)\"], ['((p_size >= 1) AND (((p_brand = \\'Brand#32\\'::bpchar) AND (p_container = ANY (\\'{\"SM CASE\",\"SM BOX\",\"SM PACK\",\"SM PKG\"}\\'::bpchar[])) AND (p_size <= 5)) OR ((p_brand = \\'Brand#23\\'::bpchar) AND (p_container = ANY (\\'{\"MED BAG\",\"MED BOX\",\"MED PKG\",\"MED PACK\"}\\'::bpchar[])) AND (p_size <= 10)) OR ((p_brand = \\'Brand#35\\'::bpchar) AND (p_container = ANY (\\'{\"LG CASE\",\"LG BOX\",\"LG PACK\",\"LG PKG\"}\\'::bpchar[])) AND (p_size <= 15))))', '((l_shipmode = ANY (\\'{AIR,\"AIR REG\"}\\'::bpchar[])) AND (l_shipinstruct = \\'DELIVER IN PERSON\\'::bpchar) AND (((l_quantity >= \\'6\\'::numeric) AND (l_quantity <= \\'16\\'::numeric)) OR ((l_quantity >= \\'20\\'::numeric) AND (l_quantity <= \\'30\\'::numeric)) OR ((l_quantity >= \\'20\\'::numeric) AND (l_quantity <= \\'30\\'::numeric))) AND (((part.p_brand = \\'Brand#32\\'::bpchar) AND (part.p_container = ANY (\\'{\"SM CASE\",\"SM BOX\",\"SM PACK\",\"SM PKG\"}\\'::bpchar[])) AND (l_quantity >= \\'6\\'::numeric) AND (l_quantity <= \\'16\\'::numeric) AND (part.p_size <= 5)) OR ((part.p_brand = \\'Brand#23\\'::bpchar) AND (part.p_container = ANY (\\'{\"MED BAG\",\"MED BOX\",\"MED PKG\",\"MED PACK\"}\\'::bpchar[])) AND (l_quantity >= \\'20\\'::numeric) AND (l_quantity <= \\'30\\'::numeric) AND (part.p_size <= 10)) OR ((part.p_brand = \\'Brand#35\\'::bpchar) AND (part.p_container = ANY (\\'{\"LG CASE\",\"LG BOX\",\"LG PACK\",\"LG PKG\"}\\'::bpchar[])) AND (l_quantity >= \\'20\\'::numeric) AND (l_quantity <= \\'30\\'::numeric) AND (part.p_size <= 15))))'], ['(l_receiptdate > l_commitdate)', \"(n_name = 'GERMANY'::bpchar)\", '((l_receiptdate > l_commitdate) AND (l_suppkey <> l1.l_suppkey))', '(l_suppkey <> l1.l_suppkey)', \"(o_orderstatus = 'F'::bpchar)\"], ['(l_commitdate < l_receiptdate)'], [\"((o_orderdate >= '1996-01-01'::date) AND (o_orderdate < '1997-01-01 00:00:00'::timestamp without time zone))\", \"(r_name = 'ASIA'::bpchar)\"], [\"((l_shipdate >= '1996-01-01'::date) AND (l_shipdate < '1997-01-01 00:00:00'::timestamp without time zone) AND (l_discount >= 0.08) AND (l_discount <= 0.10) AND (l_quantity < '25'::numeric))\"], [\"((l_shipdate >= '1995-01-01'::date) AND (l_shipdate <= '1996-12-31'::date))\", \"((n_name = 'UNITED STATES'::bpchar) OR (n_name = 'JORDAN'::bpchar))\", \"((n_name = 'JORDAN'::bpchar) OR (n_name = 'UNITED STATES'::bpchar))\"], [\"((o_orderdate >= '1995-01-01'::date) AND (o_orderdate <= '1996-12-31'::date))\", \"(r_name = 'MIDDLE EAST'::bpchar)\", \"((p_type)::text = 'LARGE BURNISHED NICKEL'::text)\"], [\"((p_name)::text ~~ '%metallic%'::text)\"]]\n"
     ]
    }
   ],
   "source": []
  },
  {
   "cell_type": "code",
   "execution_count": 96,
   "metadata": {},
   "outputs": [],
   "source": [
    "filter_len = []\n",
    "for i in filters:\n",
    "    filter_len.append(len(i))\n",
    "\n",
    "df_copy['filters'] = filters\n",
    "df_copy['filter_len'] = filter_len  "
   ]
  },
  {
   "cell_type": "code",
   "execution_count": 97,
   "metadata": {},
   "outputs": [
    {
     "data": {
      "text/html": [
       "<div>\n",
       "<style scoped>\n",
       "    .dataframe tbody tr th:only-of-type {\n",
       "        vertical-align: middle;\n",
       "    }\n",
       "\n",
       "    .dataframe tbody tr th {\n",
       "        vertical-align: top;\n",
       "    }\n",
       "\n",
       "    .dataframe thead th {\n",
       "        text-align: right;\n",
       "    }\n",
       "</style>\n",
       "<table border=\"1\" class=\"dataframe\">\n",
       "  <thead>\n",
       "    <tr style=\"text-align: right;\">\n",
       "      <th></th>\n",
       "      <th>Plan</th>\n",
       "      <th>query</th>\n",
       "      <th>avg_row_length</th>\n",
       "      <th>no_of_partitions</th>\n",
       "      <th>relation_names</th>\n",
       "      <th>filters</th>\n",
       "      <th>filter_len</th>\n",
       "    </tr>\n",
       "  </thead>\n",
       "  <tbody>\n",
       "    <tr>\n",
       "      <th>0</th>\n",
       "      <td>{'Node Type': 'Limit', 'Parallel Aware': False...</td>\n",
       "      <td>select\\n\\tl_returnflag,\\n\\tl_linestatus,\\n\\tsu...</td>\n",
       "      <td>[156.32257463759336]</td>\n",
       "      <td>[0]</td>\n",
       "      <td>{lineitem}</td>\n",
       "      <td>[(l_shipdate &lt;= '1998-08-12 00:00:00'::timesta...</td>\n",
       "      <td>1</td>\n",
       "    </tr>\n",
       "    <tr>\n",
       "      <th>1</th>\n",
       "      <td>{'Node Type': 'Limit', 'Parallel Aware': False...</td>\n",
       "      <td>select\\n\\tl_returnflag,\\n\\tl_linestatus,\\n\\tsu...</td>\n",
       "      <td>[156.32257463759336]</td>\n",
       "      <td>[0]</td>\n",
       "      <td>{lineitem}</td>\n",
       "      <td>[(l_shipdate &lt;= '1998-08-12 00:00:00'::timesta...</td>\n",
       "      <td>1</td>\n",
       "    </tr>\n",
       "    <tr>\n",
       "      <th>2</th>\n",
       "      <td>{'Node Type': 'Limit', 'Parallel Aware': False...</td>\n",
       "      <td>select\\n\\tl_returnflag,\\n\\tl_linestatus,\\n\\tsu...</td>\n",
       "      <td>[156.32257463759336]</td>\n",
       "      <td>[0]</td>\n",
       "      <td>{lineitem}</td>\n",
       "      <td>[(l_shipdate &lt;= '1998-08-12 00:00:00'::timesta...</td>\n",
       "      <td>1</td>\n",
       "    </tr>\n",
       "    <tr>\n",
       "      <th>3</th>\n",
       "      <td>{'Node Type': 'Limit', 'Parallel Aware': False...</td>\n",
       "      <td>select\\n\\tl_returnflag,\\n\\tl_linestatus,\\n\\tsu...</td>\n",
       "      <td>[156.32257463759336]</td>\n",
       "      <td>[0]</td>\n",
       "      <td>{lineitem}</td>\n",
       "      <td>[(l_shipdate &lt;= '1998-08-12 00:00:00'::timesta...</td>\n",
       "      <td>1</td>\n",
       "    </tr>\n",
       "    <tr>\n",
       "      <th>4</th>\n",
       "      <td>{'Node Type': 'Limit', 'Parallel Aware': False...</td>\n",
       "      <td>select\\n\\tl_returnflag,\\n\\tl_linestatus,\\n\\tsu...</td>\n",
       "      <td>[156.32257463759336]</td>\n",
       "      <td>[0]</td>\n",
       "      <td>{lineitem}</td>\n",
       "      <td>[(l_shipdate &lt;= '1998-08-12 00:00:00'::timesta...</td>\n",
       "      <td>1</td>\n",
       "    </tr>\n",
       "    <tr>\n",
       "      <th>5</th>\n",
       "      <td>{'Node Type': 'Limit', 'Parallel Aware': False...</td>\n",
       "      <td>select\\n\\tl_returnflag,\\n\\tl_linestatus,\\n\\tsu...</td>\n",
       "      <td>[156.32257463759336]</td>\n",
       "      <td>[0]</td>\n",
       "      <td>{lineitem}</td>\n",
       "      <td>[(l_shipdate &lt;= '1998-08-12 00:00:00'::timesta...</td>\n",
       "      <td>1</td>\n",
       "    </tr>\n",
       "    <tr>\n",
       "      <th>6</th>\n",
       "      <td>{'Node Type': 'Limit', 'Parallel Aware': False...</td>\n",
       "      <td>select\\n\\tl_returnflag,\\n\\tl_linestatus,\\n\\tsu...</td>\n",
       "      <td>[156.32257463759336]</td>\n",
       "      <td>[0]</td>\n",
       "      <td>{lineitem}</td>\n",
       "      <td>[(l_shipdate &lt;= '1998-08-12 00:00:00'::timesta...</td>\n",
       "      <td>1</td>\n",
       "    </tr>\n",
       "    <tr>\n",
       "      <th>7</th>\n",
       "      <td>{'Node Type': 'Limit', 'Parallel Aware': False...</td>\n",
       "      <td>\\nselect\\n\\tc_custkey,\\n\\tc_name,\\n\\tsum(l_ext...</td>\n",
       "      <td>[141.49479813333335, 156.32257463759336, 139.1...</td>\n",
       "      <td>[0, 0, 0, 0]</td>\n",
       "      <td>{orders, nation, customer, lineitem}</td>\n",
       "      <td>[(l_returnflag = 'R'::bpchar)]</td>\n",
       "      <td>1</td>\n",
       "    </tr>\n",
       "    <tr>\n",
       "      <th>8</th>\n",
       "      <td>{'Node Type': 'Limit', 'Parallel Aware': False...</td>\n",
       "      <td>\\n\\nselect\\n\\tps_partkey,\\n\\tsum(ps_supplycost...</td>\n",
       "      <td>[177.41824475, 139.16, 178.07392]</td>\n",
       "      <td>[0, 0, 0]</td>\n",
       "      <td>{partsupp, nation, supplier}</td>\n",
       "      <td>[(n_name = 'EGYPT'::bpchar), (sum((partsupp.ps...</td>\n",
       "      <td>3</td>\n",
       "    </tr>\n",
       "    <tr>\n",
       "      <th>9</th>\n",
       "      <td>{'Node Type': 'Limit', 'Parallel Aware': False...</td>\n",
       "      <td>\\n\\nselect\\n\\tl_shipmode,\\n\\tsum(case\\n\\t\\twhe...</td>\n",
       "      <td>[141.49479813333335, 156.32257463759336]</td>\n",
       "      <td>[0, 0]</td>\n",
       "      <td>{orders, lineitem}</td>\n",
       "      <td>[((l_shipmode = ANY ('{RAIL,AIR}'::bpchar[])) ...</td>\n",
       "      <td>1</td>\n",
       "    </tr>\n",
       "  </tbody>\n",
       "</table>\n",
       "</div>"
      ],
      "text/plain": [
       "                                                Plan  \\\n",
       "0  {'Node Type': 'Limit', 'Parallel Aware': False...   \n",
       "1  {'Node Type': 'Limit', 'Parallel Aware': False...   \n",
       "2  {'Node Type': 'Limit', 'Parallel Aware': False...   \n",
       "3  {'Node Type': 'Limit', 'Parallel Aware': False...   \n",
       "4  {'Node Type': 'Limit', 'Parallel Aware': False...   \n",
       "5  {'Node Type': 'Limit', 'Parallel Aware': False...   \n",
       "6  {'Node Type': 'Limit', 'Parallel Aware': False...   \n",
       "7  {'Node Type': 'Limit', 'Parallel Aware': False...   \n",
       "8  {'Node Type': 'Limit', 'Parallel Aware': False...   \n",
       "9  {'Node Type': 'Limit', 'Parallel Aware': False...   \n",
       "\n",
       "                                               query  \\\n",
       "0  select\\n\\tl_returnflag,\\n\\tl_linestatus,\\n\\tsu...   \n",
       "1  select\\n\\tl_returnflag,\\n\\tl_linestatus,\\n\\tsu...   \n",
       "2  select\\n\\tl_returnflag,\\n\\tl_linestatus,\\n\\tsu...   \n",
       "3  select\\n\\tl_returnflag,\\n\\tl_linestatus,\\n\\tsu...   \n",
       "4  select\\n\\tl_returnflag,\\n\\tl_linestatus,\\n\\tsu...   \n",
       "5  select\\n\\tl_returnflag,\\n\\tl_linestatus,\\n\\tsu...   \n",
       "6  select\\n\\tl_returnflag,\\n\\tl_linestatus,\\n\\tsu...   \n",
       "7  \\nselect\\n\\tc_custkey,\\n\\tc_name,\\n\\tsum(l_ext...   \n",
       "8  \\n\\nselect\\n\\tps_partkey,\\n\\tsum(ps_supplycost...   \n",
       "9  \\n\\nselect\\n\\tl_shipmode,\\n\\tsum(case\\n\\t\\twhe...   \n",
       "\n",
       "                                      avg_row_length no_of_partitions  \\\n",
       "0                               [156.32257463759336]              [0]   \n",
       "1                               [156.32257463759336]              [0]   \n",
       "2                               [156.32257463759336]              [0]   \n",
       "3                               [156.32257463759336]              [0]   \n",
       "4                               [156.32257463759336]              [0]   \n",
       "5                               [156.32257463759336]              [0]   \n",
       "6                               [156.32257463759336]              [0]   \n",
       "7  [141.49479813333335, 156.32257463759336, 139.1...     [0, 0, 0, 0]   \n",
       "8                  [177.41824475, 139.16, 178.07392]        [0, 0, 0]   \n",
       "9           [141.49479813333335, 156.32257463759336]           [0, 0]   \n",
       "\n",
       "                         relation_names  \\\n",
       "0                            {lineitem}   \n",
       "1                            {lineitem}   \n",
       "2                            {lineitem}   \n",
       "3                            {lineitem}   \n",
       "4                            {lineitem}   \n",
       "5                            {lineitem}   \n",
       "6                            {lineitem}   \n",
       "7  {orders, nation, customer, lineitem}   \n",
       "8          {partsupp, nation, supplier}   \n",
       "9                    {orders, lineitem}   \n",
       "\n",
       "                                             filters  filter_len  \n",
       "0  [(l_shipdate <= '1998-08-12 00:00:00'::timesta...           1  \n",
       "1  [(l_shipdate <= '1998-08-12 00:00:00'::timesta...           1  \n",
       "2  [(l_shipdate <= '1998-08-12 00:00:00'::timesta...           1  \n",
       "3  [(l_shipdate <= '1998-08-12 00:00:00'::timesta...           1  \n",
       "4  [(l_shipdate <= '1998-08-12 00:00:00'::timesta...           1  \n",
       "5  [(l_shipdate <= '1998-08-12 00:00:00'::timesta...           1  \n",
       "6  [(l_shipdate <= '1998-08-12 00:00:00'::timesta...           1  \n",
       "7                     [(l_returnflag = 'R'::bpchar)]           1  \n",
       "8  [(n_name = 'EGYPT'::bpchar), (sum((partsupp.ps...           3  \n",
       "9  [((l_shipmode = ANY ('{RAIL,AIR}'::bpchar[])) ...           1  "
      ]
     },
     "execution_count": 97,
     "metadata": {},
     "output_type": "execute_result"
    }
   ],
   "source": [
    "df_copy.head(10)"
   ]
  }
 ],
 "metadata": {
  "kernelspec": {
   "display_name": "Python 3",
   "language": "python",
   "name": "python3"
  },
  "language_info": {
   "codemirror_mode": {
    "name": "ipython",
    "version": 3
   },
   "file_extension": ".py",
   "mimetype": "text/x-python",
   "name": "python",
   "nbconvert_exporter": "python",
   "pygments_lexer": "ipython3",
   "version": "3.12.2"
  }
 },
 "nbformat": 4,
 "nbformat_minor": 2
}
